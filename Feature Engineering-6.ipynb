{
 "cells": [
  {
   "cell_type": "markdown",
   "id": "3a86d13f-110d-416b-9611-a9a223149e7c",
   "metadata": {},
   "source": [
    "# Feature Engineering-6"
   ]
  },
  {
   "cell_type": "markdown",
   "id": "d7a9671b-ec8a-444e-9413-2d49999adf92",
   "metadata": {},
   "source": [
    "## Assignment Questions"
   ]
  },
  {
   "cell_type": "raw",
   "id": "8a84c26e-3d1d-48f0-b7b2-fe697c813fe2",
   "metadata": {},
   "source": [
    "Q1. Pearson correlation coefficient is a measure of the linear relationship between two variables. Suppose\n",
    "you have collected data on the amount of time students spend studying for an exam and their final exam\n",
    "scores. Calculate the Pearson correlation coefficient between these two variables and interpret the result."
   ]
  },
  {
   "cell_type": "markdown",
   "id": "9648f32f-f7e6-43d6-9939-5a8a936bd068",
   "metadata": {},
   "source": [
    "calculate the person correlation coefficent between two varivles \n",
    "1. calculate the mean of both varible \n",
    "2. calculate the diffrence between each data point and its respective varibles mean \n",
    "3. square each of the diffrence calculatd \n",
    "4. sum of the squared diffrence for the both varible \n",
    "5. the product the diffrence data point  minus for the bothvaribles \n",
    "6. calculate the person correlation (r) = sum of product of the diffrence / sum of the squared difrence of first varibles * sum of squared diffrence of second varible \n",
    "\n",
    "\n",
    "YThe person correltion cofficenrt (r)\n",
    "1.  Positive correlation (r>0)\n",
    "2. naegative correltion (r<0)\n",
    "3.  No correlation(r=0)\n",
    "4.  strength of correlation \n"
   ]
  },
  {
   "cell_type": "code",
   "execution_count": null,
   "id": "62ac57a2-dbbd-4ed9-8725-7b72cc0353c8",
   "metadata": {},
   "outputs": [],
   "source": []
  },
  {
   "cell_type": "raw",
   "id": "4724a8bf-6c29-4c83-89d7-6f6e2ec5e113",
   "metadata": {},
   "source": [
    "Q2. Spearman's rank correlation is a measure of the monotonic relationship between two variables.\n",
    "Suppose you have collected data on the amount of sleep individuals get each night and their overall job\n",
    "satisfaction level on a scale of 1 to 10. Calculate the Spearman's rank correlation between these two\n",
    "variables and interpret the result."
   ]
  },
  {
   "cell_type": "markdown",
   "id": "2fcb4689-2390-4421-9fa5-cda1153a9ef3",
   "metadata": {},
   "source": [
    "Sperman's rank correlation cofficent is used to measure the strengh and direction of the monoonic relation two varibles \n",
    "Monotonicity refers to the cnsistent incresre in one varivle as the other varibles increse \n",
    "1. Rank the data for both varibles seprately \n",
    "2. calculate the diffrence in rank for each pair of data points \n",
    "3. Square the differences calculated in step 2.\n",
    "4. Calculate the sum of the squared rank differences.\n",
    "5. Spearman's rank correlation coefficient (ρ) = 1 - (6 * sum of squared rank differences) / (n * (n^2 - 1))\n",
    "where 'n' is the number of data points.\n",
    "\n",
    "The Spearman's rank correlation coefficient (Rs)\n",
    "\n",
    "1. Positive correlation (Rs>0)\n",
    "2. naegative correltion (Rs<0)\n",
    "3. No correlation(Rs=0)\n",
    "4. strength of correlation"
   ]
  },
  {
   "cell_type": "code",
   "execution_count": null,
   "id": "0925410b-de1a-4575-86c9-15e22fddb673",
   "metadata": {},
   "outputs": [],
   "source": []
  },
  {
   "cell_type": "code",
   "execution_count": null,
   "id": "9e8813ad-80cf-4f2a-91fe-9a853154fe73",
   "metadata": {},
   "outputs": [],
   "source": []
  },
  {
   "cell_type": "raw",
   "id": "5034937d-adc0-4558-b16f-f9a6afb73f0a",
   "metadata": {},
   "source": [
    "Q3. Suppose you are conducting a study to examine the relationship between the number of hours of\n",
    "exercise per week and body mass index (BMI) in a sample of adults. You collected data on both variables\n",
    "for 50 participants. Calculate the Pearson correlation coefficient and the Spearman's rank correlation\n",
    "between these two variables and compare the results."
   ]
  },
  {
   "cell_type": "markdown",
   "id": "440e6ec5-a988-4bfc-ab9e-f3c9f2f738e5",
   "metadata": {},
   "source": [
    "Pearson correlation coefficient and the Spearman's rank correlation for the given data on the number of hours of exercise per week and body mass index (BMI) for 50 participants."
   ]
  },
  {
   "cell_type": "code",
   "execution_count": null,
   "id": "fba0dfbb-cb66-419a-8f50-2821e1fd6fea",
   "metadata": {},
   "outputs": [],
   "source": [
    "(4, 25.3)\n",
    "(5, 27.8)\n",
    "(3, 24.5)\n",
    "...\n"
   ]
  },
  {
   "cell_type": "markdown",
   "id": "b6868636-888c-4484-b9b6-a1767ce96cd8",
   "metadata": {},
   "source": [
    "1. Calculate Pearson Correlation Coefficient:"
   ]
  },
  {
   "cell_type": "markdown",
   "id": "e37a6acf-626f-4aca-907d-36d04291e57f",
   "metadata": {},
   "source": [
    "r = Σ((x - x̄)(y - ȳ)) / √(Σ(x - x̄)² * Σ(y - ȳ)²)\n"
   ]
  },
  {
   "cell_type": "markdown",
   "id": "4b406cef-00ae-4811-95c9-a518cd6c95e1",
   "metadata": {},
   "source": [
    "where \n",
    "x and y are individual data points \n"
   ]
  },
  {
   "cell_type": "markdown",
   "id": "61b6e229-d1ef-4033-8033-51f5138dddbb",
   "metadata": {},
   "source": [
    "calculate the means \n"
   ]
  },
  {
   "cell_type": "code",
   "execution_count": null,
   "id": "7d416daf-d758-47f1-9be3-c1b422412cd6",
   "metadata": {},
   "outputs": [],
   "source": [
    "x̄ = (4 + 5 + 3 + ...) / 50\n",
    "ȳ = (25.3 + 27.8 + 24.5 + ...) / 50"
   ]
  },
  {
   "cell_type": "code",
   "execution_count": null,
   "id": "af53a53e-8cb8-4dd9-a102-35ff45185834",
   "metadata": {},
   "outputs": [],
   "source": [
    "Calculate Spearmans rank correlation \n",
    "\n",
    "Rank the data for both variables.\n",
    "Calculate the difference in ranks for each pair.\n",
    "Calculate the squared differences of ranks."
   ]
  },
  {
   "cell_type": "code",
   "execution_count": 4,
   "id": "f8b04c43-4bda-48ec-8160-5d36432e4403",
   "metadata": {},
   "outputs": [
    {
     "ename": "SyntaxError",
     "evalue": "invalid character '²' (U+00B2) (2008908278.py, line 1)",
     "output_type": "error",
     "traceback": [
      "\u001b[0;36m  Cell \u001b[0;32mIn[4], line 1\u001b[0;36m\u001b[0m\n\u001b[0;31m    ρ = 1 - (6 * Σ(d²)) / (n * (n² - 1))\u001b[0m\n\u001b[0m                    ^\u001b[0m\n\u001b[0;31mSyntaxError\u001b[0m\u001b[0;31m:\u001b[0m invalid character '²' (U+00B2)\n"
     ]
    }
   ],
   "source": [
    "ρ = 1 - (6 * Σ(d²)) / (n * (n² - 1))\n"
   ]
  },
  {
   "cell_type": "code",
   "execution_count": null,
   "id": "e54e3164-eb6b-4f99-9f38-1784384678a1",
   "metadata": {},
   "outputs": [],
   "source": []
  },
  {
   "cell_type": "raw",
   "id": "5adcb65c-f7bd-440c-b536-65664dad6b69",
   "metadata": {},
   "source": [
    "Q4. A researcher is interested in examining the relationship between the number of hours individuals\n",
    "spend watching television per day and their level of physical activity. The researcher collected data on\n",
    "both variables from a sample of 50 participants. Calculate the Pearson correlation coefficient between\n",
    "these two variables."
   ]
  },
  {
   "cell_type": "code",
   "execution_count": null,
   "id": "9db73f92-e821-47e2-bdfe-cac87175f1a8",
   "metadata": {},
   "outputs": [],
   "source": [
    "The pearsons correltaion cofficents between two varibles \n",
    "r = submission (xi -xbar )(yi - ybar)"
   ]
  },
  {
   "cell_type": "code",
   "execution_count": null,
   "id": "cfb3ee17-0be6-4acb-89e5-75be7d18f014",
   "metadata": {},
   "outputs": [],
   "source": []
  },
  {
   "cell_type": "code",
   "execution_count": null,
   "id": "d8897123-ba7e-47ca-a5f2-def6936071a2",
   "metadata": {},
   "outputs": [],
   "source": [
    "Hours of TV   Physical Activity\n",
    "-------------------------------\n",
    "      2              5\n",
    "      3              4\n",
    "      1              6\n",
    "     ...            ...\n"
   ]
  },
  {
   "cell_type": "code",
   "execution_count": null,
   "id": "763f739c-36e9-4808-9b83-0a3166f05ff5",
   "metadata": {},
   "outputs": [],
   "source": []
  },
  {
   "cell_type": "raw",
   "id": "9d5d66b7-71c3-403f-bdd7-40b7329e081f",
   "metadata": {},
   "source": [
    " Q5 A survey was conducted to examine the relationship between age and preference for a particular\n",
    "brand of soft drink. The survey results are shown below:\n",
    "    \n",
    "    Age (year )     soft drink preference \n",
    "    25                 coke\n",
    "    42                 pepsi\n",
    "    37                  mountain dew\n",
    "    19                  coke\n",
    "    31                   pepsi\n",
    "    28                  coke"
   ]
  },
  {
   "cell_type": "markdown",
   "id": "44925c9c-b943-469e-826d-9e1de87fb4e6",
   "metadata": {},
   "source": [
    "f the 12 cross-sectional studies examining the relation between soft drink consumption and energy intake, 10 reported a significant positive association,10–19 1 reported mixed results,20 and 1 reported no statistically significant effect.21 Two studies showed that the increase in energy intake associated with soft drink consumption was greater than what could be explained by consumption of the beverages alone,11,17 suggesting that such beverages might stimulate appetite or suppress satiety, perhaps because of a high glycemic index (foods with a high glycemic index produce a rapid rise in blood sugar).22 The average effect size of the association between soft drink consumption and energy intake across all cross-sectional studies was 0.13 (P < .001; Q15 = 433.67, P < .001).\n",
    "\n",
    "The 5 longitudinal studies that we identified all reported positive associations between soft drink consumption and overall energy intake.17,23–26 The average effect size for these studies was 0.24 (P < .001; Q6 = 109.11, P < .001).\n",
    "\n",
    "Four long-term experimental studies in which participants consumed soft drinks for between 3 and 10 weeks showed that individuals failed to compensate for the extra energy consumed in the form of sugar-sweetened beverages in that they did not reduce the rest of their food energy intake, resulting in a greater total daily energy intake.27–30 One study revealed that participants consumed 17% more energy than in their typical diet even after the energy from the soft drinks they consumed had been taken into account,27 suggesting again that soft drinks may influence other aspects of dietary intake. The average effect size was 0.30 (P < .001; Q4 = 2.37, P = .667). Because the Q statistic was not statistically significant, we did not investigate moderators for long-term experimental studies."
   ]
  },
  {
   "cell_type": "code",
   "execution_count": null,
   "id": "b6dfa0c4-2541-455e-bfc0-ae981da73ea4",
   "metadata": {},
   "outputs": [],
   "source": []
  },
  {
   "cell_type": "raw",
   "id": "5e09306a-4e88-4c2c-9fca-1af028fcb8e0",
   "metadata": {},
   "source": [
    "Q6. A company is interested in examining the relationship between the number of sales calls made per day\n",
    "and the number of sales made per week. The company collected data on both variables from a sample of\n",
    "30 sales representatives. Calculate the Pearson correlation coefficient between these two variables."
   ]
  },
  {
   "cell_type": "code",
   "execution_count": null,
   "id": "a8a7e1f9-c0cb-4ccb-bef9-ad15537a6798",
   "metadata": {},
   "outputs": [],
   "source": []
  }
 ],
 "metadata": {
  "kernelspec": {
   "display_name": "Python 3 (ipykernel)",
   "language": "python",
   "name": "python3"
  },
  "language_info": {
   "codemirror_mode": {
    "name": "ipython",
    "version": 3
   },
   "file_extension": ".py",
   "mimetype": "text/x-python",
   "name": "python",
   "nbconvert_exporter": "python",
   "pygments_lexer": "ipython3",
   "version": "3.10.8"
  }
 },
 "nbformat": 4,
 "nbformat_minor": 5
}
